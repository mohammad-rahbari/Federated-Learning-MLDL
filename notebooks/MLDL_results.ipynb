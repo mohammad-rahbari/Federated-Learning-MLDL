{
  "nbformat": 4,
  "nbformat_minor": 0,
  "metadata": {
    "colab": {
      "provenance": [],
      "mount_file_id": "https://github.com/mohammad-rahbari/Federated-Learning-MLDL/blob/master/notebooks/MLDL_results.ipynb",
      "authorship_tag": "ABX9TyNsBM54I3vtyzGXNO0BPTD+",
      "include_colab_link": true
    },
    "kernelspec": {
      "name": "python3",
      "display_name": "Python 3"
    },
    "language_info": {
      "name": "python"
    }
  },
  "cells": [
    {
      "cell_type": "markdown",
      "metadata": {
        "id": "view-in-github",
        "colab_type": "text"
      },
      "source": [
        "<a href=\"https://colab.research.google.com/github/mohammad-rahbari/Federated-Learning-MLDL/blob/master/notebooks/MLDL_results.ipynb\" target=\"_parent\"><img src=\"https://colab.research.google.com/assets/colab-badge.svg\" alt=\"Open In Colab\"/></a>"
      ]
    },
    {
      "cell_type": "code",
      "execution_count": 7,
      "metadata": {
        "id": "nzzVZ2eR2eYe",
        "colab": {
          "base_uri": "https://localhost:8080/"
        },
        "outputId": "5cbfe1a1-24e7-4ef3-95da-df167304ee71"
      },
      "outputs": [
        {
          "output_type": "stream",
          "name": "stdout",
          "text": [
            "Drive already mounted at /content/drive; to attempt to forcibly remount, call drive.mount(\"/content/drive\", force_remount=True).\n"
          ]
        }
      ],
      "source": [
        "from google.colab import drive\n",
        "drive.mount('/content/drive')\n"
      ]
    },
    {
      "cell_type": "code",
      "source": [
        "import pandas\n",
        "import numpy as np"
      ],
      "metadata": {
        "id": "BiAbv-OMUrN5"
      },
      "execution_count": 23,
      "outputs": []
    },
    {
      "cell_type": "markdown",
      "source": [
        "# Clean up\n",
        "don't run this section"
      ],
      "metadata": {
        "id": "K1l1eukqilcO"
      }
    },
    {
      "cell_type": "code",
      "source": [
        "df_global = pandas.read_csv(\"/content/drive/MyDrive/MLDL_FederatedLearning/csv/global_log.csv\")\n",
        "df_client = pandas.read_csv(\"/content/drive/MyDrive/MLDL_FederatedLearning/csv/client_log_recovery.csv\", on_bad_lines='skip')\n",
        "df_client2 = pandas.read_csv(\"/content/drive/MyDrive/MLDL_FederatedLearning/csv/client_log.csv\", on_bad_lines='skip')\n",
        "\n",
        "\n",
        "df_client = pandas.concat([df_client, df_client2])\n"
      ],
      "metadata": {
        "id": "Vgj3bO0TUus8"
      },
      "execution_count": null,
      "outputs": []
    },
    {
      "cell_type": "code",
      "source": [
        "df_client.to_csv(\"/content/drive/MyDrive/MLDL_FederatedLearning/csv/client_log.csv\", index=False)"
      ],
      "metadata": {
        "id": "IMuGFrMIaQCl"
      },
      "execution_count": null,
      "outputs": []
    },
    {
      "cell_type": "code",
      "source": [],
      "metadata": {
        "id": "oUFqpYCdXyuZ"
      },
      "execution_count": null,
      "outputs": []
    },
    {
      "cell_type": "code",
      "source": [
        "def get_Nc(global_df,client_df):\n",
        "  result = {}\n",
        "  for i in range(len(global_df)):\n",
        "    temp = client_df[client_df[\"initial_model_name\"] == global_df.iloc[i][\"model_name\"]]\n",
        "    global_model_name =  global_df.iloc[i][\"model_name\"]\n",
        "    if len(temp) == 0:\n",
        "      classes = None\n",
        "    else:\n",
        "      classes = temp[\"classes\"].values[0]\n",
        "\n",
        "    if classes is None:\n",
        "\n",
        "      Nc = 0\n",
        "    elif classes == \"all\":\n",
        "      Nc = 100\n",
        "    else:\n",
        "\n",
        "      Nc = len(classes.split(\",\"))\n",
        "\n",
        "    result[global_model_name] = Nc\n",
        "  return result\n",
        "\n",
        "Nc_dict = get_Nc(df_global, df_client)\n",
        "\n",
        "def get_num_local_steps(global_df,client_df):\n",
        "  result = {}\n",
        "  for i in range(len(global_df)):\n",
        "    temp = client_df[client_df[\"initial_model_name\"] == global_df.iloc[i][\"model_name\"]]\n",
        "    global_model_name =  global_df.iloc[i][\"model_name\"]\n",
        "\n",
        "    j = max(temp[\"num_of_local_steps\"].values)\n",
        "\n",
        "    result[global_model_name] = j\n",
        "  return result\n",
        "\n",
        "\n",
        "df_global[\"Nc\"] = [ None ]* len(df_global)\n",
        "df_global = df_global[['backbone', 'num_of_clients', 'splitting_method','Nc', 'aggregation_method',\n",
        "       'Measurement_criteria', 'accuracy', 'loss', 'size_of_dataset',\n",
        "       'train_test_ratio', 'classes', 'round_number', 'num_of_participants',\n",
        "       'model_name', 'prev_global_model_name', 'contributors', 'path',\n",
        "       'momentum_vector_path', 'path_to_subsets', 'path_to_class_combs',\n",
        "       'time']]\n",
        "\n",
        "Nc_lst = []\n",
        "for i in range(len(df_global)):\n",
        "  Nc_lst.append(Nc_dict[df_global.iloc[i][\"model_name\"]])\n",
        "\n",
        "df_global[\"Nc\"] = Nc_lst\n",
        "\n"
      ],
      "metadata": {
        "id": "DJ9tiSP6au3i"
      },
      "execution_count": null,
      "outputs": []
    },
    {
      "cell_type": "code",
      "source": [
        "\n",
        "\n",
        "def get_num_local_steps(global_df,client_df):\n",
        "  result = {}\n",
        "  for i in range(len(global_df)):\n",
        "    temp = client_df[client_df[\"initial_model_name\"] == global_df.iloc[i][\"model_name\"]]\n",
        "\n",
        "    global_model_name =  global_df.iloc[i][\"model_name\"]\n",
        "    try:\n",
        "      j = max(temp[\"num_local_steps\"].values)\n",
        "    except:\n",
        "      j = 0\n",
        "    result[global_model_name] = j\n",
        "  return result\n",
        "\n",
        "num_local_steps_dict = get_num_local_steps(df_global, df_client)\n",
        "\n",
        "df_global[\"num_local_steps\"] = [ None ]* len(df_global)\n",
        "\n",
        "num_local_steps_lst = []\n",
        "for i in range(len(df_global)):\n",
        "  num_local_steps_lst.append(num_local_steps_dict[df_global.iloc[i][\"model_name\"]])\n",
        "\n",
        "df_global[\"num_local_steps\"] = num_local_steps_lst\n",
        "\n"
      ],
      "metadata": {
        "id": "EeEXZK6mlzL9"
      },
      "execution_count": null,
      "outputs": []
    },
    {
      "cell_type": "code",
      "source": [
        "# df_global = df_global[['backbone', 'num_of_clients', 'splitting_method','Nc','num_local_steps', 'aggregation_method',\n",
        "#        'Measurement_criteria', 'accuracy', 'loss', 'size_of_dataset',\n",
        "#        'train_test_ratio', 'round_number', 'num_of_participants',\n",
        "#        'model_name', 'prev_global_model_name', 'contributors', 'path',\n",
        "#        'momentum_vector_path', 'path_to_subsets', 'path_to_class_combs',\n",
        "#        'time']]\n",
        "# df_global.to_csv(\"/content/drive/MyDrive/MLDL_FederatedLearning/csv/global_log.csv\",index=False )"
      ],
      "metadata": {
        "id": "PtcSBXfzbZc6"
      },
      "execution_count": null,
      "outputs": []
    },
    {
      "cell_type": "markdown",
      "source": [
        "# Extract trained setting"
      ],
      "metadata": {
        "id": "LzkW-yiuizm7"
      }
    },
    {
      "cell_type": "code",
      "source": [
        "df_global = pandas.read_csv(\"/content/drive/MyDrive/MLDL_FederatedLearning/csv/global_log.csv\")\n",
        "df_client = pandas.read_csv(\"/content/drive/MyDrive/MLDL_FederatedLearning/csv/client_log.csv\")\n",
        "\n",
        "def get_seed_models(df):\n",
        "  filter = df['round_number'] == 0\n",
        "  df_filtered = df[filter]\n",
        "  return df_filtered\n",
        "\n",
        "def get_model_squence(df, seed_model):\n",
        "  result = df[df['model_name']==seed_model['model_name']]\n",
        "  latest_model = result['model_name'].values[0]\n",
        "  while True:\n",
        "    if latest_model in df['prev_global_model_name'].values:\n",
        "      temp =  df[df['prev_global_model_name']==latest_model]\n",
        "      latest_model = temp['model_name'].values[0]\n",
        "      result = pandas.concat([result, temp])\n",
        "    else:\n",
        "      break\n",
        "  result = result.sort_values(by=['round_number'])\n",
        "  return result\n",
        "\n",
        "def get_from_client(df_client, model_name, attribute, single_record= True):\n",
        "  if single_record:\n",
        "    return df_client[df_client['initial_model_name']==model_name][attribute].values[0]\n",
        "  else:\n",
        "    return df_client[df_client['initial_model_name']==model_name][attribute]\n",
        "\n",
        "def get_vlid_lst(lst):\n",
        "  result = []\n",
        "  for i in lst:\n",
        "\n",
        "    if not (i is None or np.isnan(i)):\n",
        "      result.append(i)\n",
        "\n",
        "  return result"
      ],
      "metadata": {
        "id": "D5hEDvETjB9k"
      },
      "execution_count": 35,
      "outputs": []
    },
    {
      "cell_type": "code",
      "source": [],
      "metadata": {
        "id": "Ym423NCLSQRJ"
      },
      "execution_count": null,
      "outputs": []
    },
    {
      "cell_type": "code",
      "source": [
        "seed_models = get_seed_models(df_global)\n",
        "\n",
        "for i in range(len(seed_models)):\n",
        "\n",
        "  log = \"\"\n",
        "\n",
        "\n",
        "  df_seq = get_model_squence(df_global,seed_models.iloc[i] )\n",
        "  r_num = max(get_vlid_lst(df_seq['round_number'].values))\n",
        "  if r_num != 0:\n",
        "\n",
        "    log +=f\"Seed model: {seed_models.iloc[i]['model_name']} \\n\"\n",
        "    log +=f\"Spliting method: {df_seq['splitting_method'].values[-1]}  \\n\"\n",
        "    if df_seq['splitting_method'].values[-1] == \"non-i.i.d. sharing\":\n",
        "      log +=f\"Nc: {max(get_vlid_lst(df_seq['Nc'].values))}  \\n\"\n",
        "    log +=f\"Number of rounds: {r_num}  \\n\"\n",
        "    log +=f\"Number of local_steps: {max(get_vlid_lst(df_seq['num_local_steps'].values))}  \\n\"\n",
        "    try:\n",
        "      log +=f\"Target Sparcity: {get_from_client(df_client, seed_models.iloc[i]['model_name'], 'sparsity')}  \\n\"\n",
        "      log +=f\"Accuracy: {df_seq[df_seq['round_number']== r_num]['accuracy'].values[-1]}  \\n\"\n",
        "      log +=f\"Loss: {df_seq[df_seq['round_number']== r_num]['loss'].values[-1]} \\n\"\n",
        "    except:\n",
        "      continue\n",
        "\n",
        "    print(log,\" \\n \\n \\n\")\n",
        "\n",
        "\n",
        "\n",
        "\n",
        "\n"
      ],
      "metadata": {
        "id": "LknlkiGejM8O",
        "outputId": "7922f5ee-8ea0-4ea3-9763-1c0f056b4010",
        "colab": {
          "base_uri": "https://localhost:8080/"
        }
      },
      "execution_count": 44,
      "outputs": [
        {
          "output_type": "stream",
          "name": "stdout",
          "text": [
            "Seed model: a3030af8-712b-4617-bbee-ab67d3dff2d7 \n",
            "Spliting method: i.i.d. sharing  \n",
            "Number of rounds: 150  \n",
            "Number of local_steps: 5.0  \n",
            "Target Sparcity: 0.9  \n",
            "Accuracy: 28.37  \n",
            "Loss: 2.907258399581909 \n",
            "  \n",
            " \n",
            " \n",
            "\n",
            "Seed model: f142f936-1ed1-4dfb-b0b2-3f99aff46a89 \n",
            "Spliting method: i.i.d. sharing  \n",
            "Number of rounds: 101  \n",
            "Number of local_steps: 4.0  \n",
            "Target Sparcity: 0.5  \n",
            "Accuracy: 37.06  \n",
            "Loss: 2.498008365631104 \n",
            "  \n",
            " \n",
            " \n",
            "\n",
            "Seed model: 41715a10-15ab-4c46-81ec-18ade92789db \n",
            "Spliting method: non-i.i.d. sharing  \n",
            "Nc: 100.0  \n",
            "Number of rounds: 2  \n",
            "Number of local_steps: 4.0  \n",
            "Target Sparcity: 0.5  \n",
            "Accuracy: 1.62  \n",
            "Loss: 6.56297015914917 \n",
            "  \n",
            " \n",
            " \n",
            "\n",
            "Seed model: f56d4e15-9536-4733-9120-6423230a650d \n",
            "Spliting method: non-i.i.d. sharing  \n",
            "Nc: 50.0  \n",
            "Number of rounds: 101  \n",
            "Number of local_steps: 4.0  \n",
            "Target Sparcity: 0.5  \n",
            "Accuracy: 42.91  \n",
            "Loss: 2.204365297317505 \n",
            "  \n",
            " \n",
            " \n",
            "\n",
            "Seed model: e7afd632-fee2-4218-b6cc-0636438b2edb \n",
            "Spliting method: non-i.i.d. sharing  \n",
            "Nc: 20.0  \n",
            "Number of rounds: 37  \n",
            "Number of local_steps: 4.0  \n",
            "Target Sparcity: 0.5  \n",
            "Accuracy: 19.52  \n",
            "Loss: 3.583254189300537 \n",
            "  \n",
            " \n",
            " \n",
            "\n",
            "Seed model: 61cb31ef-74c1-4f60-95e9-d35fd60a7d55 \n",
            "Spliting method: non-i.i.d. sharing  \n",
            "Nc: 10.0  \n",
            "Number of rounds: 101  \n",
            "Number of local_steps: 4.0  \n",
            "Target Sparcity: 0.5  \n",
            "Accuracy: 42.47  \n",
            "Loss: 2.287277921676636 \n",
            "  \n",
            " \n",
            " \n",
            "\n",
            "Seed model: 23f056c6-52e9-47b2-beb1-9ef590f743cc \n",
            "Spliting method: non-i.i.d. sharing  \n",
            "Nc: 5.0  \n",
            "Number of rounds: 100  \n",
            "Number of local_steps: 4.0  \n",
            "Target Sparcity: 0.5  \n",
            "Accuracy: 36.99  \n",
            "Loss: 2.4839044147491456 \n",
            "  \n",
            " \n",
            " \n",
            "\n",
            "Seed model: 201a5aeb-0d1e-438f-8178-4ebcc4d94435 \n",
            "Spliting method: i.i.d. sharing  \n",
            "Number of rounds: 50  \n",
            "Number of local_steps: 8.0  \n",
            "Target Sparcity: 0.5  \n",
            "Accuracy: 47.13  \n",
            "Loss: 2.006863841247559 \n",
            "  \n",
            " \n",
            " \n",
            "\n",
            "Seed model: 453429aa-5c7f-4046-b4f2-658588fc9c38 \n",
            "Spliting method: non-i.i.d. sharing  \n",
            "Nc: 50.0  \n",
            "Number of rounds: 25  \n",
            "Number of local_steps: 16.0  \n",
            "Target Sparcity: 0.5  \n",
            "Accuracy: 55.72  \n",
            "Loss: 1.6333883512496947 \n",
            "  \n",
            " \n",
            " \n",
            "\n",
            "Seed model: f60e06e4-ac4b-4495-8904-16753c21c425 \n",
            "Spliting method: non-i.i.d. sharing  \n",
            "Nc: 1.0  \n",
            "Number of rounds: 25  \n",
            "Number of local_steps: 16.0  \n",
            "Target Sparcity: 0.5  \n",
            "Accuracy: 9.38  \n",
            "Loss: 6.838217649841309 \n",
            "  \n",
            " \n",
            " \n",
            "\n",
            "Seed model: 0decec9d-3280-48d6-8c4e-ad1785b9736e \n",
            "Spliting method: non-i.i.d. sharing  \n",
            "Nc: 50.0  \n",
            "Number of rounds: 50  \n",
            "Number of local_steps: 8.0  \n",
            "Target Sparcity: 0.5  \n",
            "Accuracy: 51.73  \n",
            "Loss: 1.8172913234710693 \n",
            "  \n",
            " \n",
            " \n",
            "\n",
            "Seed model: 91be5aaa-6416-4558-89d4-a8c18e6d1e2f \n",
            "Spliting method: non-i.i.d. sharing  \n",
            "Nc: 10.0  \n",
            "Number of rounds: 13  \n",
            "Number of local_steps: 8.0  \n",
            "Target Sparcity: 0.5  \n",
            "Accuracy: 15.81  \n",
            "Loss: 4.084831575012207 \n",
            "  \n",
            " \n",
            " \n",
            "\n"
          ]
        }
      ]
    }
  ]
}